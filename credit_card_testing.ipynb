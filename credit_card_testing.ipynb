{
  "cells": [
    {
      "cell_type": "markdown",
      "metadata": {
        "id": "IsVkOhAb5T9H"
      },
      "source": [
        "# General Process"
      ]
    },
    {
      "cell_type": "code",
      "execution_count": null,
      "metadata": {
        "colab": {
          "base_uri": "https://localhost:8080/"
        },
        "id": "2rigO5WufAZH",
        "outputId": "7d2b8b24-6a69-4d2f-bd84-bef237221fa9"
      },
      "outputs": [
        {
          "output_type": "stream",
          "name": "stdout",
          "text": [
            "Mounted at /content/drive\n"
          ]
        }
      ],
      "source": [
        "from google.colab import drive\n",
        "drive.mount('/content/drive')"
      ]
    },
    {
      "cell_type": "code",
      "execution_count": null,
      "metadata": {
        "colab": {
          "base_uri": "https://localhost:8080/"
        },
        "id": "DgihRvzI8T0B",
        "outputId": "f1f6633f-a162-411b-cbfd-d1d28e7719d1"
      },
      "outputs": [
        {
          "output_type": "stream",
          "name": "stdout",
          "text": [
            "Drive already mounted at /content/drive; to attempt to forcibly remount, call drive.mount(\"/content/drive\", force_remount=True).\n"
          ]
        }
      ],
      "source": [
        "import pandas as pd\n",
        "import numpy as np\n",
        "import matplotlib.pyplot as plt\n",
        "import seaborn as sns\n",
        "import scipy.stats as stats\n",
        "from statsmodels.stats.proportion import proportions_ztest\n",
        "\n",
        "drive.mount('/content/drive')\n",
        "myFiles = '/content/drive/MyDrive/Colab Notebooks/cust_seg.csv'"
      ]
    },
    {
      "cell_type": "markdown",
      "metadata": {
        "id": "2iVmv96Q5doB"
      },
      "source": [
        "# Sebuah bank melakukan uji coba terhadap campaign yang dilakukan apakah sukses dalam hal penggunaan kartu kredit dan apakah ada perbedaan penggunaan kartu kredit antara laki-laki dan perempuan"
      ]
    },
    {
      "cell_type": "code",
      "execution_count": null,
      "metadata": {
        "id": "BqZMpZhN1HMO",
        "colab": {
          "base_uri": "https://localhost:8080/",
          "height": 206
        },
        "outputId": "954415a2-0367-44ea-e8cc-219e323479d5"
      },
      "outputs": [
        {
          "output_type": "execute_result",
          "data": {
            "text/plain": [
              "   custid  sex  AqChannel  region  Marital_status  segment  pre_usage  \\\n",
              "0      70    0          4       1               1        1         57   \n",
              "1     121    1          4       2               1        3         68   \n",
              "2      86    0          4       3               1        1         44   \n",
              "3     141    0          4       3               1        3         63   \n",
              "4     172    0          4       2               1        2         47   \n",
              "\n",
              "   Post_usage_1month  Latest_mon_usage  post_usage_2ndmonth  \n",
              "0                 52              49.2                 57.2  \n",
              "1                 59              63.6                 64.9  \n",
              "2                 33              64.8                 36.3  \n",
              "3                 44              56.4                 48.4  \n",
              "4                 52              68.4                 57.2  "
            ],
            "text/html": [
              "\n",
              "  <div id=\"df-2cc6719b-af1c-4d42-b865-ef57b9e378d1\">\n",
              "    <div class=\"colab-df-container\">\n",
              "      <div>\n",
              "<style scoped>\n",
              "    .dataframe tbody tr th:only-of-type {\n",
              "        vertical-align: middle;\n",
              "    }\n",
              "\n",
              "    .dataframe tbody tr th {\n",
              "        vertical-align: top;\n",
              "    }\n",
              "\n",
              "    .dataframe thead th {\n",
              "        text-align: right;\n",
              "    }\n",
              "</style>\n",
              "<table border=\"1\" class=\"dataframe\">\n",
              "  <thead>\n",
              "    <tr style=\"text-align: right;\">\n",
              "      <th></th>\n",
              "      <th>custid</th>\n",
              "      <th>sex</th>\n",
              "      <th>AqChannel</th>\n",
              "      <th>region</th>\n",
              "      <th>Marital_status</th>\n",
              "      <th>segment</th>\n",
              "      <th>pre_usage</th>\n",
              "      <th>Post_usage_1month</th>\n",
              "      <th>Latest_mon_usage</th>\n",
              "      <th>post_usage_2ndmonth</th>\n",
              "    </tr>\n",
              "  </thead>\n",
              "  <tbody>\n",
              "    <tr>\n",
              "      <th>0</th>\n",
              "      <td>70</td>\n",
              "      <td>0</td>\n",
              "      <td>4</td>\n",
              "      <td>1</td>\n",
              "      <td>1</td>\n",
              "      <td>1</td>\n",
              "      <td>57</td>\n",
              "      <td>52</td>\n",
              "      <td>49.2</td>\n",
              "      <td>57.2</td>\n",
              "    </tr>\n",
              "    <tr>\n",
              "      <th>1</th>\n",
              "      <td>121</td>\n",
              "      <td>1</td>\n",
              "      <td>4</td>\n",
              "      <td>2</td>\n",
              "      <td>1</td>\n",
              "      <td>3</td>\n",
              "      <td>68</td>\n",
              "      <td>59</td>\n",
              "      <td>63.6</td>\n",
              "      <td>64.9</td>\n",
              "    </tr>\n",
              "    <tr>\n",
              "      <th>2</th>\n",
              "      <td>86</td>\n",
              "      <td>0</td>\n",
              "      <td>4</td>\n",
              "      <td>3</td>\n",
              "      <td>1</td>\n",
              "      <td>1</td>\n",
              "      <td>44</td>\n",
              "      <td>33</td>\n",
              "      <td>64.8</td>\n",
              "      <td>36.3</td>\n",
              "    </tr>\n",
              "    <tr>\n",
              "      <th>3</th>\n",
              "      <td>141</td>\n",
              "      <td>0</td>\n",
              "      <td>4</td>\n",
              "      <td>3</td>\n",
              "      <td>1</td>\n",
              "      <td>3</td>\n",
              "      <td>63</td>\n",
              "      <td>44</td>\n",
              "      <td>56.4</td>\n",
              "      <td>48.4</td>\n",
              "    </tr>\n",
              "    <tr>\n",
              "      <th>4</th>\n",
              "      <td>172</td>\n",
              "      <td>0</td>\n",
              "      <td>4</td>\n",
              "      <td>2</td>\n",
              "      <td>1</td>\n",
              "      <td>2</td>\n",
              "      <td>47</td>\n",
              "      <td>52</td>\n",
              "      <td>68.4</td>\n",
              "      <td>57.2</td>\n",
              "    </tr>\n",
              "  </tbody>\n",
              "</table>\n",
              "</div>\n",
              "      <button class=\"colab-df-convert\" onclick=\"convertToInteractive('df-2cc6719b-af1c-4d42-b865-ef57b9e378d1')\"\n",
              "              title=\"Convert this dataframe to an interactive table.\"\n",
              "              style=\"display:none;\">\n",
              "        \n",
              "  <svg xmlns=\"http://www.w3.org/2000/svg\" height=\"24px\"viewBox=\"0 0 24 24\"\n",
              "       width=\"24px\">\n",
              "    <path d=\"M0 0h24v24H0V0z\" fill=\"none\"/>\n",
              "    <path d=\"M18.56 5.44l.94 2.06.94-2.06 2.06-.94-2.06-.94-.94-2.06-.94 2.06-2.06.94zm-11 1L8.5 8.5l.94-2.06 2.06-.94-2.06-.94L8.5 2.5l-.94 2.06-2.06.94zm10 10l.94 2.06.94-2.06 2.06-.94-2.06-.94-.94-2.06-.94 2.06-2.06.94z\"/><path d=\"M17.41 7.96l-1.37-1.37c-.4-.4-.92-.59-1.43-.59-.52 0-1.04.2-1.43.59L10.3 9.45l-7.72 7.72c-.78.78-.78 2.05 0 2.83L4 21.41c.39.39.9.59 1.41.59.51 0 1.02-.2 1.41-.59l7.78-7.78 2.81-2.81c.8-.78.8-2.07 0-2.86zM5.41 20L4 18.59l7.72-7.72 1.47 1.35L5.41 20z\"/>\n",
              "  </svg>\n",
              "      </button>\n",
              "      \n",
              "  <style>\n",
              "    .colab-df-container {\n",
              "      display:flex;\n",
              "      flex-wrap:wrap;\n",
              "      gap: 12px;\n",
              "    }\n",
              "\n",
              "    .colab-df-convert {\n",
              "      background-color: #E8F0FE;\n",
              "      border: none;\n",
              "      border-radius: 50%;\n",
              "      cursor: pointer;\n",
              "      display: none;\n",
              "      fill: #1967D2;\n",
              "      height: 32px;\n",
              "      padding: 0 0 0 0;\n",
              "      width: 32px;\n",
              "    }\n",
              "\n",
              "    .colab-df-convert:hover {\n",
              "      background-color: #E2EBFA;\n",
              "      box-shadow: 0px 1px 2px rgba(60, 64, 67, 0.3), 0px 1px 3px 1px rgba(60, 64, 67, 0.15);\n",
              "      fill: #174EA6;\n",
              "    }\n",
              "\n",
              "    [theme=dark] .colab-df-convert {\n",
              "      background-color: #3B4455;\n",
              "      fill: #D2E3FC;\n",
              "    }\n",
              "\n",
              "    [theme=dark] .colab-df-convert:hover {\n",
              "      background-color: #434B5C;\n",
              "      box-shadow: 0px 1px 3px 1px rgba(0, 0, 0, 0.15);\n",
              "      filter: drop-shadow(0px 1px 2px rgba(0, 0, 0, 0.3));\n",
              "      fill: #FFFFFF;\n",
              "    }\n",
              "  </style>\n",
              "\n",
              "      <script>\n",
              "        const buttonEl =\n",
              "          document.querySelector('#df-2cc6719b-af1c-4d42-b865-ef57b9e378d1 button.colab-df-convert');\n",
              "        buttonEl.style.display =\n",
              "          google.colab.kernel.accessAllowed ? 'block' : 'none';\n",
              "\n",
              "        async function convertToInteractive(key) {\n",
              "          const element = document.querySelector('#df-2cc6719b-af1c-4d42-b865-ef57b9e378d1');\n",
              "          const dataTable =\n",
              "            await google.colab.kernel.invokeFunction('convertToInteractive',\n",
              "                                                     [key], {});\n",
              "          if (!dataTable) return;\n",
              "\n",
              "          const docLinkHtml = 'Like what you see? Visit the ' +\n",
              "            '<a target=\"_blank\" href=https://colab.research.google.com/notebooks/data_table.ipynb>data table notebook</a>'\n",
              "            + ' to learn more about interactive tables.';\n",
              "          element.innerHTML = '';\n",
              "          dataTable['output_type'] = 'display_data';\n",
              "          await google.colab.output.renderOutput(dataTable, element);\n",
              "          const docLink = document.createElement('div');\n",
              "          docLink.innerHTML = docLinkHtml;\n",
              "          element.appendChild(docLink);\n",
              "        }\n",
              "      </script>\n",
              "    </div>\n",
              "  </div>\n",
              "  "
            ]
          },
          "metadata": {},
          "execution_count": 3
        }
      ],
      "source": [
        "df = pd.read_csv(myFiles)\n",
        "df.head()"
      ]
    },
    {
      "cell_type": "markdown",
      "metadata": {
        "id": "8KW8PlovEVFp"
      },
      "source": [
        "# Exploratory Data Analysits\n",
        "Lakukan Analisis Eksplorasi Data pada dataset tersebut berikut penjelasan dan visualisasinya"
      ]
    },
    {
      "cell_type": "code",
      "execution_count": null,
      "metadata": {
        "id": "DRqKK4aSEMnM",
        "colab": {
          "base_uri": "https://localhost:8080/"
        },
        "outputId": "cfedda2e-baa1-4385-d082-4cd54dc7b997"
      },
      "outputs": [
        {
          "output_type": "stream",
          "name": "stdout",
          "text": [
            "Jumlah row data :  200\n",
            "<class 'pandas.core.frame.DataFrame'>\n",
            "RangeIndex: 200 entries, 0 to 199\n",
            "Data columns (total 10 columns):\n",
            " #   Column               Non-Null Count  Dtype  \n",
            "---  ------               --------------  -----  \n",
            " 0   custid               200 non-null    int64  \n",
            " 1   sex                  200 non-null    int64  \n",
            " 2   AqChannel            200 non-null    int64  \n",
            " 3   region               200 non-null    int64  \n",
            " 4   Marital_status       200 non-null    int64  \n",
            " 5   segment              200 non-null    int64  \n",
            " 6   pre_usage            200 non-null    int64  \n",
            " 7   Post_usage_1month    200 non-null    int64  \n",
            " 8   Latest_mon_usage     200 non-null    float64\n",
            " 9   post_usage_2ndmonth  200 non-null    float64\n",
            "dtypes: float64(2), int64(8)\n",
            "memory usage: 15.8 KB\n"
          ]
        }
      ],
      "source": [
        "#Melihat informasi dari setiap kolom\n",
        "#Setaip row pada kolom semua terisi artinya tidak ada missing value(NaN) \n",
        "#custid seharusnya menjadi primary key yang unik\n",
        "print(f'Jumlah row data :  {df.custid.count()}')\n",
        "df.info()"
      ]
    },
    {
      "cell_type": "code",
      "execution_count": null,
      "metadata": {
        "colab": {
          "base_uri": "https://localhost:8080/"
        },
        "id": "7sD7RL0JFkHc",
        "outputId": "5463b85d-935b-4101-8016-3c8072888e47"
      },
      "outputs": [
        {
          "output_type": "stream",
          "name": "stdout",
          "text": [
            "Kolom custid unik dan tidak ada duplikasi\n"
          ]
        }
      ],
      "source": [
        "#cek custid apak unik atau tidak \n",
        "#atau apakah ada duplikasi\n",
        "if df['custid'].count() == df['custid'].nunique():\n",
        "  print('Kolom custid unik dan tidak ada duplikasi') \n",
        "else:\n",
        "  print('Kolom custid tidak unik atau ada duplikasi') "
      ]
    },
    {
      "cell_type": "code",
      "execution_count": null,
      "metadata": {
        "id": "gjSypvxzGlTD",
        "colab": {
          "base_uri": "https://localhost:8080/",
          "height": 206
        },
        "outputId": "2db87c99-618f-4f1a-cf33-a0d1cbae66c6"
      },
      "outputs": [
        {
          "output_type": "execute_result",
          "data": {
            "text/plain": [
              "   ID Customer  Jenis Kelamin  Pemakaian Awal  Pemakaian Bulan 1  \\\n",
              "0           70              0              57                 52   \n",
              "1          121              1              68                 59   \n",
              "2           86              0              44                 33   \n",
              "3          141              0              63                 44   \n",
              "4          172              0              47                 52   \n",
              "\n",
              "   Pemakaian Bulan 2  Pemakaian 1 Tahun Lalu  \n",
              "0               57.2                    49.2  \n",
              "1               64.9                    63.6  \n",
              "2               36.3                    64.8  \n",
              "3               48.4                    56.4  \n",
              "4               57.2                    68.4  "
            ],
            "text/html": [
              "\n",
              "  <div id=\"df-877d062b-b957-4006-ad10-ee9e546c0f42\">\n",
              "    <div class=\"colab-df-container\">\n",
              "      <div>\n",
              "<style scoped>\n",
              "    .dataframe tbody tr th:only-of-type {\n",
              "        vertical-align: middle;\n",
              "    }\n",
              "\n",
              "    .dataframe tbody tr th {\n",
              "        vertical-align: top;\n",
              "    }\n",
              "\n",
              "    .dataframe thead th {\n",
              "        text-align: right;\n",
              "    }\n",
              "</style>\n",
              "<table border=\"1\" class=\"dataframe\">\n",
              "  <thead>\n",
              "    <tr style=\"text-align: right;\">\n",
              "      <th></th>\n",
              "      <th>ID Customer</th>\n",
              "      <th>Jenis Kelamin</th>\n",
              "      <th>Pemakaian Awal</th>\n",
              "      <th>Pemakaian Bulan 1</th>\n",
              "      <th>Pemakaian Bulan 2</th>\n",
              "      <th>Pemakaian 1 Tahun Lalu</th>\n",
              "    </tr>\n",
              "  </thead>\n",
              "  <tbody>\n",
              "    <tr>\n",
              "      <th>0</th>\n",
              "      <td>70</td>\n",
              "      <td>0</td>\n",
              "      <td>57</td>\n",
              "      <td>52</td>\n",
              "      <td>57.2</td>\n",
              "      <td>49.2</td>\n",
              "    </tr>\n",
              "    <tr>\n",
              "      <th>1</th>\n",
              "      <td>121</td>\n",
              "      <td>1</td>\n",
              "      <td>68</td>\n",
              "      <td>59</td>\n",
              "      <td>64.9</td>\n",
              "      <td>63.6</td>\n",
              "    </tr>\n",
              "    <tr>\n",
              "      <th>2</th>\n",
              "      <td>86</td>\n",
              "      <td>0</td>\n",
              "      <td>44</td>\n",
              "      <td>33</td>\n",
              "      <td>36.3</td>\n",
              "      <td>64.8</td>\n",
              "    </tr>\n",
              "    <tr>\n",
              "      <th>3</th>\n",
              "      <td>141</td>\n",
              "      <td>0</td>\n",
              "      <td>63</td>\n",
              "      <td>44</td>\n",
              "      <td>48.4</td>\n",
              "      <td>56.4</td>\n",
              "    </tr>\n",
              "    <tr>\n",
              "      <th>4</th>\n",
              "      <td>172</td>\n",
              "      <td>0</td>\n",
              "      <td>47</td>\n",
              "      <td>52</td>\n",
              "      <td>57.2</td>\n",
              "      <td>68.4</td>\n",
              "    </tr>\n",
              "  </tbody>\n",
              "</table>\n",
              "</div>\n",
              "      <button class=\"colab-df-convert\" onclick=\"convertToInteractive('df-877d062b-b957-4006-ad10-ee9e546c0f42')\"\n",
              "              title=\"Convert this dataframe to an interactive table.\"\n",
              "              style=\"display:none;\">\n",
              "        \n",
              "  <svg xmlns=\"http://www.w3.org/2000/svg\" height=\"24px\"viewBox=\"0 0 24 24\"\n",
              "       width=\"24px\">\n",
              "    <path d=\"M0 0h24v24H0V0z\" fill=\"none\"/>\n",
              "    <path d=\"M18.56 5.44l.94 2.06.94-2.06 2.06-.94-2.06-.94-.94-2.06-.94 2.06-2.06.94zm-11 1L8.5 8.5l.94-2.06 2.06-.94-2.06-.94L8.5 2.5l-.94 2.06-2.06.94zm10 10l.94 2.06.94-2.06 2.06-.94-2.06-.94-.94-2.06-.94 2.06-2.06.94z\"/><path d=\"M17.41 7.96l-1.37-1.37c-.4-.4-.92-.59-1.43-.59-.52 0-1.04.2-1.43.59L10.3 9.45l-7.72 7.72c-.78.78-.78 2.05 0 2.83L4 21.41c.39.39.9.59 1.41.59.51 0 1.02-.2 1.41-.59l7.78-7.78 2.81-2.81c.8-.78.8-2.07 0-2.86zM5.41 20L4 18.59l7.72-7.72 1.47 1.35L5.41 20z\"/>\n",
              "  </svg>\n",
              "      </button>\n",
              "      \n",
              "  <style>\n",
              "    .colab-df-container {\n",
              "      display:flex;\n",
              "      flex-wrap:wrap;\n",
              "      gap: 12px;\n",
              "    }\n",
              "\n",
              "    .colab-df-convert {\n",
              "      background-color: #E8F0FE;\n",
              "      border: none;\n",
              "      border-radius: 50%;\n",
              "      cursor: pointer;\n",
              "      display: none;\n",
              "      fill: #1967D2;\n",
              "      height: 32px;\n",
              "      padding: 0 0 0 0;\n",
              "      width: 32px;\n",
              "    }\n",
              "\n",
              "    .colab-df-convert:hover {\n",
              "      background-color: #E2EBFA;\n",
              "      box-shadow: 0px 1px 2px rgba(60, 64, 67, 0.3), 0px 1px 3px 1px rgba(60, 64, 67, 0.15);\n",
              "      fill: #174EA6;\n",
              "    }\n",
              "\n",
              "    [theme=dark] .colab-df-convert {\n",
              "      background-color: #3B4455;\n",
              "      fill: #D2E3FC;\n",
              "    }\n",
              "\n",
              "    [theme=dark] .colab-df-convert:hover {\n",
              "      background-color: #434B5C;\n",
              "      box-shadow: 0px 1px 3px 1px rgba(0, 0, 0, 0.15);\n",
              "      filter: drop-shadow(0px 1px 2px rgba(0, 0, 0, 0.3));\n",
              "      fill: #FFFFFF;\n",
              "    }\n",
              "  </style>\n",
              "\n",
              "      <script>\n",
              "        const buttonEl =\n",
              "          document.querySelector('#df-877d062b-b957-4006-ad10-ee9e546c0f42 button.colab-df-convert');\n",
              "        buttonEl.style.display =\n",
              "          google.colab.kernel.accessAllowed ? 'block' : 'none';\n",
              "\n",
              "        async function convertToInteractive(key) {\n",
              "          const element = document.querySelector('#df-877d062b-b957-4006-ad10-ee9e546c0f42');\n",
              "          const dataTable =\n",
              "            await google.colab.kernel.invokeFunction('convertToInteractive',\n",
              "                                                     [key], {});\n",
              "          if (!dataTable) return;\n",
              "\n",
              "          const docLinkHtml = 'Like what you see? Visit the ' +\n",
              "            '<a target=\"_blank\" href=https://colab.research.google.com/notebooks/data_table.ipynb>data table notebook</a>'\n",
              "            + ' to learn more about interactive tables.';\n",
              "          element.innerHTML = '';\n",
              "          dataTable['output_type'] = 'display_data';\n",
              "          await google.colab.output.renderOutput(dataTable, element);\n",
              "          const docLink = document.createElement('div');\n",
              "          docLink.innerHTML = docLinkHtml;\n",
              "          element.appendChild(docLink);\n",
              "        }\n",
              "      </script>\n",
              "    </div>\n",
              "  </div>\n",
              "  "
            ]
          },
          "metadata": {},
          "execution_count": 6
        }
      ],
      "source": [
        "#Mengatur ulang data agar lebih mudah dimengerti dengan mengganti nama masing-masing kolom\n",
        "df1 = df[['custid','sex','pre_usage','Post_usage_1month','post_usage_2ndmonth','Latest_mon_usage']]\n",
        "df1.columns = ['ID Customer','Jenis Kelamin','Pemakaian Awal','Pemakaian Bulan 1','Pemakaian Bulan 2','Pemakaian 1 Tahun Lalu']\n",
        "df1[['ID Customer','Jenis Kelamin','Pemakaian 1 Tahun Lalu','Pemakaian Awal','Pemakaian Bulan 1','Pemakaian Bulan 2']]\n",
        "df1.head()"
      ]
    },
    {
      "cell_type": "code",
      "execution_count": null,
      "metadata": {
        "id": "Z9vn55GJGnzr",
        "colab": {
          "base_uri": "https://localhost:8080/",
          "height": 206
        },
        "outputId": "9d3734ad-df63-458c-fbf1-a99675817118"
      },
      "outputs": [
        {
          "output_type": "execute_result",
          "data": {
            "text/plain": [
              "   ID Customer  Jenis Kelamin  Pemakaian Awal  Pemakaian Bulan 1  \\\n",
              "0           70              0              57                 52   \n",
              "1          121              1              68                 59   \n",
              "2           86              0              44                 33   \n",
              "3          141              0              63                 44   \n",
              "4          172              0              47                 52   \n",
              "\n",
              "   Pemakaian Bulan 2  Pemakaian 1 Tahun Lalu  Rerata Setelah Campaign  \n",
              "0               57.2                    49.2                    54.60  \n",
              "1               64.9                    63.6                    61.95  \n",
              "2               36.3                    64.8                    34.65  \n",
              "3               48.4                    56.4                    46.20  \n",
              "4               57.2                    68.4                    54.60  "
            ],
            "text/html": [
              "\n",
              "  <div id=\"df-7cb51394-d10b-4d58-b208-e05a7b4540a8\">\n",
              "    <div class=\"colab-df-container\">\n",
              "      <div>\n",
              "<style scoped>\n",
              "    .dataframe tbody tr th:only-of-type {\n",
              "        vertical-align: middle;\n",
              "    }\n",
              "\n",
              "    .dataframe tbody tr th {\n",
              "        vertical-align: top;\n",
              "    }\n",
              "\n",
              "    .dataframe thead th {\n",
              "        text-align: right;\n",
              "    }\n",
              "</style>\n",
              "<table border=\"1\" class=\"dataframe\">\n",
              "  <thead>\n",
              "    <tr style=\"text-align: right;\">\n",
              "      <th></th>\n",
              "      <th>ID Customer</th>\n",
              "      <th>Jenis Kelamin</th>\n",
              "      <th>Pemakaian Awal</th>\n",
              "      <th>Pemakaian Bulan 1</th>\n",
              "      <th>Pemakaian Bulan 2</th>\n",
              "      <th>Pemakaian 1 Tahun Lalu</th>\n",
              "      <th>Rerata Setelah Campaign</th>\n",
              "    </tr>\n",
              "  </thead>\n",
              "  <tbody>\n",
              "    <tr>\n",
              "      <th>0</th>\n",
              "      <td>70</td>\n",
              "      <td>0</td>\n",
              "      <td>57</td>\n",
              "      <td>52</td>\n",
              "      <td>57.2</td>\n",
              "      <td>49.2</td>\n",
              "      <td>54.60</td>\n",
              "    </tr>\n",
              "    <tr>\n",
              "      <th>1</th>\n",
              "      <td>121</td>\n",
              "      <td>1</td>\n",
              "      <td>68</td>\n",
              "      <td>59</td>\n",
              "      <td>64.9</td>\n",
              "      <td>63.6</td>\n",
              "      <td>61.95</td>\n",
              "    </tr>\n",
              "    <tr>\n",
              "      <th>2</th>\n",
              "      <td>86</td>\n",
              "      <td>0</td>\n",
              "      <td>44</td>\n",
              "      <td>33</td>\n",
              "      <td>36.3</td>\n",
              "      <td>64.8</td>\n",
              "      <td>34.65</td>\n",
              "    </tr>\n",
              "    <tr>\n",
              "      <th>3</th>\n",
              "      <td>141</td>\n",
              "      <td>0</td>\n",
              "      <td>63</td>\n",
              "      <td>44</td>\n",
              "      <td>48.4</td>\n",
              "      <td>56.4</td>\n",
              "      <td>46.20</td>\n",
              "    </tr>\n",
              "    <tr>\n",
              "      <th>4</th>\n",
              "      <td>172</td>\n",
              "      <td>0</td>\n",
              "      <td>47</td>\n",
              "      <td>52</td>\n",
              "      <td>57.2</td>\n",
              "      <td>68.4</td>\n",
              "      <td>54.60</td>\n",
              "    </tr>\n",
              "  </tbody>\n",
              "</table>\n",
              "</div>\n",
              "      <button class=\"colab-df-convert\" onclick=\"convertToInteractive('df-7cb51394-d10b-4d58-b208-e05a7b4540a8')\"\n",
              "              title=\"Convert this dataframe to an interactive table.\"\n",
              "              style=\"display:none;\">\n",
              "        \n",
              "  <svg xmlns=\"http://www.w3.org/2000/svg\" height=\"24px\"viewBox=\"0 0 24 24\"\n",
              "       width=\"24px\">\n",
              "    <path d=\"M0 0h24v24H0V0z\" fill=\"none\"/>\n",
              "    <path d=\"M18.56 5.44l.94 2.06.94-2.06 2.06-.94-2.06-.94-.94-2.06-.94 2.06-2.06.94zm-11 1L8.5 8.5l.94-2.06 2.06-.94-2.06-.94L8.5 2.5l-.94 2.06-2.06.94zm10 10l.94 2.06.94-2.06 2.06-.94-2.06-.94-.94-2.06-.94 2.06-2.06.94z\"/><path d=\"M17.41 7.96l-1.37-1.37c-.4-.4-.92-.59-1.43-.59-.52 0-1.04.2-1.43.59L10.3 9.45l-7.72 7.72c-.78.78-.78 2.05 0 2.83L4 21.41c.39.39.9.59 1.41.59.51 0 1.02-.2 1.41-.59l7.78-7.78 2.81-2.81c.8-.78.8-2.07 0-2.86zM5.41 20L4 18.59l7.72-7.72 1.47 1.35L5.41 20z\"/>\n",
              "  </svg>\n",
              "      </button>\n",
              "      \n",
              "  <style>\n",
              "    .colab-df-container {\n",
              "      display:flex;\n",
              "      flex-wrap:wrap;\n",
              "      gap: 12px;\n",
              "    }\n",
              "\n",
              "    .colab-df-convert {\n",
              "      background-color: #E8F0FE;\n",
              "      border: none;\n",
              "      border-radius: 50%;\n",
              "      cursor: pointer;\n",
              "      display: none;\n",
              "      fill: #1967D2;\n",
              "      height: 32px;\n",
              "      padding: 0 0 0 0;\n",
              "      width: 32px;\n",
              "    }\n",
              "\n",
              "    .colab-df-convert:hover {\n",
              "      background-color: #E2EBFA;\n",
              "      box-shadow: 0px 1px 2px rgba(60, 64, 67, 0.3), 0px 1px 3px 1px rgba(60, 64, 67, 0.15);\n",
              "      fill: #174EA6;\n",
              "    }\n",
              "\n",
              "    [theme=dark] .colab-df-convert {\n",
              "      background-color: #3B4455;\n",
              "      fill: #D2E3FC;\n",
              "    }\n",
              "\n",
              "    [theme=dark] .colab-df-convert:hover {\n",
              "      background-color: #434B5C;\n",
              "      box-shadow: 0px 1px 3px 1px rgba(0, 0, 0, 0.15);\n",
              "      filter: drop-shadow(0px 1px 2px rgba(0, 0, 0, 0.3));\n",
              "      fill: #FFFFFF;\n",
              "    }\n",
              "  </style>\n",
              "\n",
              "      <script>\n",
              "        const buttonEl =\n",
              "          document.querySelector('#df-7cb51394-d10b-4d58-b208-e05a7b4540a8 button.colab-df-convert');\n",
              "        buttonEl.style.display =\n",
              "          google.colab.kernel.accessAllowed ? 'block' : 'none';\n",
              "\n",
              "        async function convertToInteractive(key) {\n",
              "          const element = document.querySelector('#df-7cb51394-d10b-4d58-b208-e05a7b4540a8');\n",
              "          const dataTable =\n",
              "            await google.colab.kernel.invokeFunction('convertToInteractive',\n",
              "                                                     [key], {});\n",
              "          if (!dataTable) return;\n",
              "\n",
              "          const docLinkHtml = 'Like what you see? Visit the ' +\n",
              "            '<a target=\"_blank\" href=https://colab.research.google.com/notebooks/data_table.ipynb>data table notebook</a>'\n",
              "            + ' to learn more about interactive tables.';\n",
              "          element.innerHTML = '';\n",
              "          dataTable['output_type'] = 'display_data';\n",
              "          await google.colab.output.renderOutput(dataTable, element);\n",
              "          const docLink = document.createElement('div');\n",
              "          docLink.innerHTML = docLinkHtml;\n",
              "          element.appendChild(docLink);\n",
              "        }\n",
              "      </script>\n",
              "    </div>\n",
              "  </div>\n",
              "  "
            ]
          },
          "metadata": {},
          "execution_count": 7
        }
      ],
      "source": [
        "# Menghitung rerata pemakaian sebelum dan sesudah campaign\n",
        "df1.insert(6, column = 'Rerata Setelah Campaign', value = (df1['Pemakaian Bulan 1'] + df1['Pemakaian Bulan 2'])/2)\n",
        "df1.head()"
      ]
    },
    {
      "cell_type": "code",
      "execution_count": null,
      "metadata": {
        "id": "5OHzeZquHdJE",
        "colab": {
          "base_uri": "https://localhost:8080/"
        },
        "outputId": "01771d3b-063b-46f8-88e4-c554eed25ec0"
      },
      "outputs": [
        {
          "output_type": "stream",
          "name": "stdout",
          "text": [
            "Rata-rata selisih pemakaian sebelum dan sesudah campaign adalah sebesar 3.184\n"
          ]
        }
      ],
      "source": [
        "# Menghitung selisih (difference) rata-rata setelah dan sebelum campaign\n",
        "selisihRerataPemakaian = df1['Rerata Setelah Campaign'] - df1['Pemakaian Awal']\n",
        "df1.insert(7, column = 'Selisih Rerata', value = selisihRerataPemakaian)\n",
        "rerataSelisihPemakaian = df1['Selisih Rerata'].mean()\n",
        "print(f'Rata-rata selisih pemakaian sebelum dan sesudah campaign adalah sebesar {rerataSelisihPemakaian:.3f}')"
      ]
    },
    {
      "cell_type": "code",
      "execution_count": null,
      "metadata": {
        "colab": {
          "base_uri": "https://localhost:8080/",
          "height": 112
        },
        "id": "1BWvqEn_KC9K",
        "outputId": "3388658c-1979-4076-bceb-da337e3f86e5"
      },
      "outputs": [
        {
          "output_type": "execute_result",
          "data": {
            "text/plain": [
              "                         Rerata Pemakaian\n",
              "Pemakaian Awal                   52.23000\n",
              "Rerata Setelah Campaign          55.41375"
            ],
            "text/html": [
              "\n",
              "  <div id=\"df-b3d9bcbb-257b-47f9-9d32-ff6c5d5621de\">\n",
              "    <div class=\"colab-df-container\">\n",
              "      <div>\n",
              "<style scoped>\n",
              "    .dataframe tbody tr th:only-of-type {\n",
              "        vertical-align: middle;\n",
              "    }\n",
              "\n",
              "    .dataframe tbody tr th {\n",
              "        vertical-align: top;\n",
              "    }\n",
              "\n",
              "    .dataframe thead th {\n",
              "        text-align: right;\n",
              "    }\n",
              "</style>\n",
              "<table border=\"1\" class=\"dataframe\">\n",
              "  <thead>\n",
              "    <tr style=\"text-align: right;\">\n",
              "      <th></th>\n",
              "      <th>Rerata Pemakaian</th>\n",
              "    </tr>\n",
              "  </thead>\n",
              "  <tbody>\n",
              "    <tr>\n",
              "      <th>Pemakaian Awal</th>\n",
              "      <td>52.23000</td>\n",
              "    </tr>\n",
              "    <tr>\n",
              "      <th>Rerata Setelah Campaign</th>\n",
              "      <td>55.41375</td>\n",
              "    </tr>\n",
              "  </tbody>\n",
              "</table>\n",
              "</div>\n",
              "      <button class=\"colab-df-convert\" onclick=\"convertToInteractive('df-b3d9bcbb-257b-47f9-9d32-ff6c5d5621de')\"\n",
              "              title=\"Convert this dataframe to an interactive table.\"\n",
              "              style=\"display:none;\">\n",
              "        \n",
              "  <svg xmlns=\"http://www.w3.org/2000/svg\" height=\"24px\"viewBox=\"0 0 24 24\"\n",
              "       width=\"24px\">\n",
              "    <path d=\"M0 0h24v24H0V0z\" fill=\"none\"/>\n",
              "    <path d=\"M18.56 5.44l.94 2.06.94-2.06 2.06-.94-2.06-.94-.94-2.06-.94 2.06-2.06.94zm-11 1L8.5 8.5l.94-2.06 2.06-.94-2.06-.94L8.5 2.5l-.94 2.06-2.06.94zm10 10l.94 2.06.94-2.06 2.06-.94-2.06-.94-.94-2.06-.94 2.06-2.06.94z\"/><path d=\"M17.41 7.96l-1.37-1.37c-.4-.4-.92-.59-1.43-.59-.52 0-1.04.2-1.43.59L10.3 9.45l-7.72 7.72c-.78.78-.78 2.05 0 2.83L4 21.41c.39.39.9.59 1.41.59.51 0 1.02-.2 1.41-.59l7.78-7.78 2.81-2.81c.8-.78.8-2.07 0-2.86zM5.41 20L4 18.59l7.72-7.72 1.47 1.35L5.41 20z\"/>\n",
              "  </svg>\n",
              "      </button>\n",
              "      \n",
              "  <style>\n",
              "    .colab-df-container {\n",
              "      display:flex;\n",
              "      flex-wrap:wrap;\n",
              "      gap: 12px;\n",
              "    }\n",
              "\n",
              "    .colab-df-convert {\n",
              "      background-color: #E8F0FE;\n",
              "      border: none;\n",
              "      border-radius: 50%;\n",
              "      cursor: pointer;\n",
              "      display: none;\n",
              "      fill: #1967D2;\n",
              "      height: 32px;\n",
              "      padding: 0 0 0 0;\n",
              "      width: 32px;\n",
              "    }\n",
              "\n",
              "    .colab-df-convert:hover {\n",
              "      background-color: #E2EBFA;\n",
              "      box-shadow: 0px 1px 2px rgba(60, 64, 67, 0.3), 0px 1px 3px 1px rgba(60, 64, 67, 0.15);\n",
              "      fill: #174EA6;\n",
              "    }\n",
              "\n",
              "    [theme=dark] .colab-df-convert {\n",
              "      background-color: #3B4455;\n",
              "      fill: #D2E3FC;\n",
              "    }\n",
              "\n",
              "    [theme=dark] .colab-df-convert:hover {\n",
              "      background-color: #434B5C;\n",
              "      box-shadow: 0px 1px 3px 1px rgba(0, 0, 0, 0.15);\n",
              "      filter: drop-shadow(0px 1px 2px rgba(0, 0, 0, 0.3));\n",
              "      fill: #FFFFFF;\n",
              "    }\n",
              "  </style>\n",
              "\n",
              "      <script>\n",
              "        const buttonEl =\n",
              "          document.querySelector('#df-b3d9bcbb-257b-47f9-9d32-ff6c5d5621de button.colab-df-convert');\n",
              "        buttonEl.style.display =\n",
              "          google.colab.kernel.accessAllowed ? 'block' : 'none';\n",
              "\n",
              "        async function convertToInteractive(key) {\n",
              "          const element = document.querySelector('#df-b3d9bcbb-257b-47f9-9d32-ff6c5d5621de');\n",
              "          const dataTable =\n",
              "            await google.colab.kernel.invokeFunction('convertToInteractive',\n",
              "                                                     [key], {});\n",
              "          if (!dataTable) return;\n",
              "\n",
              "          const docLinkHtml = 'Like what you see? Visit the ' +\n",
              "            '<a target=\"_blank\" href=https://colab.research.google.com/notebooks/data_table.ipynb>data table notebook</a>'\n",
              "            + ' to learn more about interactive tables.';\n",
              "          element.innerHTML = '';\n",
              "          dataTable['output_type'] = 'display_data';\n",
              "          await google.colab.output.renderOutput(dataTable, element);\n",
              "          const docLink = document.createElement('div');\n",
              "          docLink.innerHTML = docLinkHtml;\n",
              "          element.appendChild(docLink);\n",
              "        }\n",
              "      </script>\n",
              "    </div>\n",
              "  </div>\n",
              "  "
            ]
          },
          "metadata": {},
          "execution_count": 10
        }
      ],
      "source": [
        "#Membandingkan rata-rata pemakaian sebelum dan sesudah adanya campaign\n",
        "tempRerata = pd.DataFrame({'Rerata Pemakaian' : df1[['Pemakaian Awal','Rerata Setelah Campaign']].mean()})\n",
        "tempRerata"
      ]
    },
    {
      "cell_type": "code",
      "execution_count": null,
      "metadata": {
        "colab": {
          "base_uri": "https://localhost:8080/",
          "height": 452
        },
        "id": "2rLcN_-LIx6S",
        "outputId": "060bc5e5-e48c-4670-be43-809f09d6a342"
      },
      "outputs": [
        {
          "output_type": "display_data",
          "data": {
            "text/plain": [
              "<Figure size 640x480 with 1 Axes>"
            ],
            "image/png": "[encoded data removed]"
          },
          "metadata": {}
        }
      ],
      "source": [
        "#menampilkan visualisasi \n",
        "plt.title('Rata-rata Pemakaian Sebelum VS Sesudah Campaign')\n",
        "plt.bar(tempRerata.index,tempRerata['Rerata Pemakaian'], color=['red', 'green'])\n",
        "plt.grid(axis='y')"
      ]
    },
    {
      "cell_type": "markdown",
      "metadata": {
        "id": "1PVTVETG2XWj"
      },
      "source": [
        "Dari diagram batang diatas dapat dilihat :\n",
        "Rata2 Pemakaian Sebelum campaign < Rata2 Pemakaian Setelah Campaign.\n",
        "Artinya ***campaign berpengaruh*** terhadap kenaikan pemakaian kartu kredit, Mengalami kenaikan pemakaian sebesar 3.184.\n",
        "Kesimpulannya secara keseluruhan ***campaign sukses***"
      ]
    },
    {
      "cell_type": "markdown",
      "metadata": {
        "id": "7pyis4tE840J"
      },
      "source": [
        "# **Adakah Perbedaan Pemakaian laki-laki vs perempuan**"
      ]
    },
    {
      "cell_type": "code",
      "execution_count": null,
      "metadata": {
        "colab": {
          "base_uri": "https://localhost:8080/",
          "height": 112
        },
        "id": "ufpQ9xLqMeWC",
        "outputId": "4978283e-fbc2-444c-e2a3-433dfbdc2242"
      },
      "outputs": [
        {
          "output_type": "execute_result",
          "data": {
            "text/plain": [
              "           Gender\n",
              "Perempuan     109\n",
              "Laki-laki      91"
            ],
            "text/html": [
              "\n",
              "  <div id=\"df-85f2a507-978a-4f1c-a105-d372a7ec4dd1\">\n",
              "    <div class=\"colab-df-container\">\n",
              "      <div>\n",
              "<style scoped>\n",
              "    .dataframe tbody tr th:only-of-type {\n",
              "        vertical-align: middle;\n",
              "    }\n",
              "\n",
              "    .dataframe tbody tr th {\n",
              "        vertical-align: top;\n",
              "    }\n",
              "\n",
              "    .dataframe thead th {\n",
              "        text-align: right;\n",
              "    }\n",
              "</style>\n",
              "<table border=\"1\" class=\"dataframe\">\n",
              "  <thead>\n",
              "    <tr style=\"text-align: right;\">\n",
              "      <th></th>\n",
              "      <th>Gender</th>\n",
              "    </tr>\n",
              "  </thead>\n",
              "  <tbody>\n",
              "    <tr>\n",
              "      <th>Perempuan</th>\n",
              "      <td>109</td>\n",
              "    </tr>\n",
              "    <tr>\n",
              "      <th>Laki-laki</th>\n",
              "      <td>91</td>\n",
              "    </tr>\n",
              "  </tbody>\n",
              "</table>\n",
              "</div>\n",
              "      <button class=\"colab-df-convert\" onclick=\"convertToInteractive('df-85f2a507-978a-4f1c-a105-d372a7ec4dd1')\"\n",
              "              title=\"Convert this dataframe to an interactive table.\"\n",
              "              style=\"display:none;\">\n",
              "        \n",
              "  <svg xmlns=\"http://www.w3.org/2000/svg\" height=\"24px\"viewBox=\"0 0 24 24\"\n",
              "       width=\"24px\">\n",
              "    <path d=\"M0 0h24v24H0V0z\" fill=\"none\"/>\n",
              "    <path d=\"M18.56 5.44l.94 2.06.94-2.06 2.06-.94-2.06-.94-.94-2.06-.94 2.06-2.06.94zm-11 1L8.5 8.5l.94-2.06 2.06-.94-2.06-.94L8.5 2.5l-.94 2.06-2.06.94zm10 10l.94 2.06.94-2.06 2.06-.94-2.06-.94-.94-2.06-.94 2.06-2.06.94z\"/><path d=\"M17.41 7.96l-1.37-1.37c-.4-.4-.92-.59-1.43-.59-.52 0-1.04.2-1.43.59L10.3 9.45l-7.72 7.72c-.78.78-.78 2.05 0 2.83L4 21.41c.39.39.9.59 1.41.59.51 0 1.02-.2 1.41-.59l7.78-7.78 2.81-2.81c.8-.78.8-2.07 0-2.86zM5.41 20L4 18.59l7.72-7.72 1.47 1.35L5.41 20z\"/>\n",
              "  </svg>\n",
              "      </button>\n",
              "      \n",
              "  <style>\n",
              "    .colab-df-container {\n",
              "      display:flex;\n",
              "      flex-wrap:wrap;\n",
              "      gap: 12px;\n",
              "    }\n",
              "\n",
              "    .colab-df-convert {\n",
              "      background-color: #E8F0FE;\n",
              "      border: none;\n",
              "      border-radius: 50%;\n",
              "      cursor: pointer;\n",
              "      display: none;\n",
              "      fill: #1967D2;\n",
              "      height: 32px;\n",
              "      padding: 0 0 0 0;\n",
              "      width: 32px;\n",
              "    }\n",
              "\n",
              "    .colab-df-convert:hover {\n",
              "      background-color: #E2EBFA;\n",
              "      box-shadow: 0px 1px 2px rgba(60, 64, 67, 0.3), 0px 1px 3px 1px rgba(60, 64, 67, 0.15);\n",
              "      fill: #174EA6;\n",
              "    }\n",
              "\n",
              "    [theme=dark] .colab-df-convert {\n",
              "      background-color: #3B4455;\n",
              "      fill: #D2E3FC;\n",
              "    }\n",
              "\n",
              "    [theme=dark] .colab-df-convert:hover {\n",
              "      background-color: #434B5C;\n",
              "      box-shadow: 0px 1px 3px 1px rgba(0, 0, 0, 0.15);\n",
              "      filter: drop-shadow(0px 1px 2px rgba(0, 0, 0, 0.3));\n",
              "      fill: #FFFFFF;\n",
              "    }\n",
              "  </style>\n",
              "\n",
              "      <script>\n",
              "        const buttonEl =\n",
              "          document.querySelector('#df-85f2a507-978a-4f1c-a105-d372a7ec4dd1 button.colab-df-convert');\n",
              "        buttonEl.style.display =\n",
              "          google.colab.kernel.accessAllowed ? 'block' : 'none';\n",
              "\n",
              "        async function convertToInteractive(key) {\n",
              "          const element = document.querySelector('#df-85f2a507-978a-4f1c-a105-d372a7ec4dd1');\n",
              "          const dataTable =\n",
              "            await google.colab.kernel.invokeFunction('convertToInteractive',\n",
              "                                                     [key], {});\n",
              "          if (!dataTable) return;\n",
              "\n",
              "          const docLinkHtml = 'Like what you see? Visit the ' +\n",
              "            '<a target=\"_blank\" href=https://colab.research.google.com/notebooks/data_table.ipynb>data table notebook</a>'\n",
              "            + ' to learn more about interactive tables.';\n",
              "          element.innerHTML = '';\n",
              "          dataTable['output_type'] = 'display_data';\n",
              "          await google.colab.output.renderOutput(dataTable, element);\n",
              "          const docLink = document.createElement('div');\n",
              "          docLink.innerHTML = docLinkHtml;\n",
              "          element.appendChild(docLink);\n",
              "        }\n",
              "      </script>\n",
              "    </div>\n",
              "  </div>\n",
              "  "
            ]
          },
          "metadata": {},
          "execution_count": 13
        }
      ],
      "source": [
        "#Membuat kategori laki-laki dan perempuan\n",
        "gender= df1['Jenis Kelamin'].replace([0, 1], ['Laki-laki', 'Perempuan'])\n",
        "df1.insert(2, column = 'Gender', value = gender)\n",
        "#Melihat perbandingan jumlah laki-laki dan perempuan\n",
        "pd.DataFrame(df1['Gender'].value_counts())"
      ]
    },
    {
      "cell_type": "markdown",
      "metadata": {
        "id": "c1WeRkon9rdR"
      },
      "source": [
        "Perbandingan pengguna kartu kredit laki-laki lebih sedikit dibandingkan perempuan"
      ]
    },
    {
      "cell_type": "code",
      "execution_count": null,
      "metadata": {
        "colab": {
          "base_uri": "https://localhost:8080/",
          "height": 143
        },
        "id": "ont9oxeyCyS4",
        "outputId": "f4307ebe-3693-426b-959c-09a32d1b8aee"
      },
      "outputs": [
        {
          "output_type": "execute_result",
          "data": {
            "text/plain": [
              "           Pemakaian Awal  Rerata Setelah Campaign\n",
              "Gender                                            \n",
              "Laki-laki       52.824176                52.626923\n",
              "Perempuan       51.733945                57.740367"
            ],
            "text/html": [
              "\n",
              "  <div id=\"df-d42558ac-59f8-4987-bb36-db2957c6d454\">\n",
              "    <div class=\"colab-df-container\">\n",
              "      <div>\n",
              "<style scoped>\n",
              "    .dataframe tbody tr th:only-of-type {\n",
              "        vertical-align: middle;\n",
              "    }\n",
              "\n",
              "    .dataframe tbody tr th {\n",
              "        vertical-align: top;\n",
              "    }\n",
              "\n",
              "    .dataframe thead th {\n",
              "        text-align: right;\n",
              "    }\n",
              "</style>\n",
              "<table border=\"1\" class=\"dataframe\">\n",
              "  <thead>\n",
              "    <tr style=\"text-align: right;\">\n",
              "      <th></th>\n",
              "      <th>Pemakaian Awal</th>\n",
              "      <th>Rerata Setelah Campaign</th>\n",
              "    </tr>\n",
              "    <tr>\n",
              "      <th>Gender</th>\n",
              "      <th></th>\n",
              "      <th></th>\n",
              "    </tr>\n",
              "  </thead>\n",
              "  <tbody>\n",
              "    <tr>\n",
              "      <th>Laki-laki</th>\n",
              "      <td>52.824176</td>\n",
              "      <td>52.626923</td>\n",
              "    </tr>\n",
              "    <tr>\n",
              "      <th>Perempuan</th>\n",
              "      <td>51.733945</td>\n",
              "      <td>57.740367</td>\n",
              "    </tr>\n",
              "  </tbody>\n",
              "</table>\n",
              "</div>\n",
              "      <button class=\"colab-df-convert\" onclick=\"convertToInteractive('df-d42558ac-59f8-4987-bb36-db2957c6d454')\"\n",
              "              title=\"Convert this dataframe to an interactive table.\"\n",
              "              style=\"display:none;\">\n",
              "        \n",
              "  <svg xmlns=\"http://www.w3.org/2000/svg\" height=\"24px\"viewBox=\"0 0 24 24\"\n",
              "       width=\"24px\">\n",
              "    <path d=\"M0 0h24v24H0V0z\" fill=\"none\"/>\n",
              "    <path d=\"M18.56 5.44l.94 2.06.94-2.06 2.06-.94-2.06-.94-.94-2.06-.94 2.06-2.06.94zm-11 1L8.5 8.5l.94-2.06 2.06-.94-2.06-.94L8.5 2.5l-.94 2.06-2.06.94zm10 10l.94 2.06.94-2.06 2.06-.94-2.06-.94-.94-2.06-.94 2.06-2.06.94z\"/><path d=\"M17.41 7.96l-1.37-1.37c-.4-.4-.92-.59-1.43-.59-.52 0-1.04.2-1.43.59L10.3 9.45l-7.72 7.72c-.78.78-.78 2.05 0 2.83L4 21.41c.39.39.9.59 1.41.59.51 0 1.02-.2 1.41-.59l7.78-7.78 2.81-2.81c.8-.78.8-2.07 0-2.86zM5.41 20L4 18.59l7.72-7.72 1.47 1.35L5.41 20z\"/>\n",
              "  </svg>\n",
              "      </button>\n",
              "      \n",
              "  <style>\n",
              "    .colab-df-container {\n",
              "      display:flex;\n",
              "      flex-wrap:wrap;\n",
              "      gap: 12px;\n",
              "    }\n",
              "\n",
              "    .colab-df-convert {\n",
              "      background-color: #E8F0FE;\n",
              "      border: none;\n",
              "      border-radius: 50%;\n",
              "      cursor: pointer;\n",
              "      display: none;\n",
              "      fill: #1967D2;\n",
              "      height: 32px;\n",
              "      padding: 0 0 0 0;\n",
              "      width: 32px;\n",
              "    }\n",
              "\n",
              "    .colab-df-convert:hover {\n",
              "      background-color: #E2EBFA;\n",
              "      box-shadow: 0px 1px 2px rgba(60, 64, 67, 0.3), 0px 1px 3px 1px rgba(60, 64, 67, 0.15);\n",
              "      fill: #174EA6;\n",
              "    }\n",
              "\n",
              "    [theme=dark] .colab-df-convert {\n",
              "      background-color: #3B4455;\n",
              "      fill: #D2E3FC;\n",
              "    }\n",
              "\n",
              "    [theme=dark] .colab-df-convert:hover {\n",
              "      background-color: #434B5C;\n",
              "      box-shadow: 0px 1px 3px 1px rgba(0, 0, 0, 0.15);\n",
              "      filter: drop-shadow(0px 1px 2px rgba(0, 0, 0, 0.3));\n",
              "      fill: #FFFFFF;\n",
              "    }\n",
              "  </style>\n",
              "\n",
              "      <script>\n",
              "        const buttonEl =\n",
              "          document.querySelector('#df-d42558ac-59f8-4987-bb36-db2957c6d454 button.colab-df-convert');\n",
              "        buttonEl.style.display =\n",
              "          google.colab.kernel.accessAllowed ? 'block' : 'none';\n",
              "\n",
              "        async function convertToInteractive(key) {\n",
              "          const element = document.querySelector('#df-d42558ac-59f8-4987-bb36-db2957c6d454');\n",
              "          const dataTable =\n",
              "            await google.colab.kernel.invokeFunction('convertToInteractive',\n",
              "                                                     [key], {});\n",
              "          if (!dataTable) return;\n",
              "\n",
              "          const docLinkHtml = 'Like what you see? Visit the ' +\n",
              "            '<a target=\"_blank\" href=https://colab.research.google.com/notebooks/data_table.ipynb>data table notebook</a>'\n",
              "            + ' to learn more about interactive tables.';\n",
              "          element.innerHTML = '';\n",
              "          dataTable['output_type'] = 'display_data';\n",
              "          await google.colab.output.renderOutput(dataTable, element);\n",
              "          const docLink = document.createElement('div');\n",
              "          docLink.innerHTML = docLinkHtml;\n",
              "          element.appendChild(docLink);\n",
              "        }\n",
              "      </script>\n",
              "    </div>\n",
              "  </div>\n",
              "  "
            ]
          },
          "metadata": {},
          "execution_count": 14
        }
      ],
      "source": [
        "# Melihat Rerata Pemakaian Sebelum dan Sesudah Campaign antara Laki-laki Vs Perempuan\n",
        "df2 =df1.groupby(['Gender'])[['Pemakaian Awal','Rerata Setelah Campaign']].mean()\n",
        "df2"
      ]
    },
    {
      "cell_type": "code",
      "execution_count": null,
      "metadata": {
        "colab": {
          "base_uri": "https://localhost:8080/",
          "height": 705
        },
        "id": "IkkF-habktG2",
        "outputId": "676398bc-297b-4d91-b04d-d1151a8dffe3"
      },
      "outputs": [
        {
          "output_type": "display_data",
          "data": {
            "text/plain": [
              "<Figure size 700x800 with 1 Axes>"
            ],
            "image/png": "[encoded data removed]"
          },
          "metadata": {}
        }
      ],
      "source": [
        "# Menampilkan visualisasi\n",
        "x = np.arange(len(df2.index))\n",
        "width = 0.2\n",
        "\n",
        "fig, ax = plt.subplots(figsize=(7, 8))\n",
        "\n",
        "ax.bar(x - width/2, df2['Pemakaian Awal'], width, label='No Campaign', color='steelblue')\n",
        "ax.bar(x + width/2, df2['Rerata Setelah Campaign'], width, label='Campaign', color='lightcoral')\n",
        "\n",
        "ax.set_title('Perbandingan Pemakaian Laki-laki VS Perempuan', size=16)\n",
        "ax.set_ylabel('Pemakaian', size=14)\n",
        "ax.set_xticks(x)\n",
        "ax.set_xticklabels(df2.index, size=12)\n",
        "ax.legend(fontsize=14)\n",
        "\n",
        "plt.show()"
      ]
    },
    {
      "cell_type": "markdown",
      "metadata": {
        "id": "e1kbV_LKxf6N"
      },
      "source": [
        "# Kesimpulan\n",
        "\n",
        "Hasil explorasi data:\n",
        "1. Perbandingan pengguna kartu kredit : laki-laki (91) < (109) perempuan\n",
        "2. Rerata pemakaian kartu kredit sebelum campaign :\n",
        "   Laki-laki (52.824176) > (51.733945) Perempuan.\n",
        "3. Rerata pemakaian kartu kredit setelah campaign :\n",
        "   Laki-laki (52.626923) < (57.740367) Perempuan.\n",
        "4. Rerata pemakaian kartu kredit oleh laki-laki :\n",
        "   setelah campaign (52.626923) > (52.626923) sebelum campaign.\n",
        "5. Rerata pemakaian kartu kredit oleh perempuan :\n",
        "   setelah campaign (51.733945) < (57.303670) sebelum campaign\n",
        "\n",
        "Kesimpulan :\n",
        "\n",
        "* Terdapat perbedaan yang signifikan pemakaian kartu kredit antara laki-laki dan perempuan. \n",
        "* Campaign yang dilakukan sangat berpengaruh terhadap pemakaian kartu kredit dikalangan Perempuan, dengan rerata kenaikan sebesar 6,006422 .\n",
        "* Berbeda dengan laki-laki, campaign yang dilakukan tidak terlalu berpengaruh terhadap pemakian kartu bahkan hampir sama. \n",
        "* Secara general bisa dikatakan campaign ini sukses. \n",
        "* Campaign tersebut sangat terasa dampaknya untuk kalangan perempuan.\n",
        "\n"
      ]
    },
    {
      "cell_type": "markdown",
      "metadata": {
        "id": "iGp1taHjvHrP"
      },
      "source": [
        "# Uji Hipotesis"
      ]
    },
    {
      "cell_type": "markdown",
      "source": [
        "# Campaign yang dilakukan apakah sukses dalam hal penggunaan kartu kredit"
      ],
      "metadata": {
        "id": "RpR3eqwKPXA6"
      }
    },
    {
      "cell_type": "markdown",
      "metadata": {
        "id": "BlfXuIMgvRxo"
      },
      "source": [
        "Prosedur melakukan uji Hipotesis.\n",
        "\n"
      ]
    },
    {
      "cell_type": "markdown",
      "metadata": {
        "id": "usjxEu0_y-LX"
      },
      "source": [
        "1.Merumuskan hipotesis nol (H0)\n",
        "dan hipotesis alternatif (H1)\n",
        "\n",
        "H0 --> Rata-rata pemakaian kartu kredit setelah campaign = rata-rata pemakaian kartu kredit sebelum campaign. (µ1 = µ0)\n",
        "\n",
        "H1 --> Rata-rata pemakaian kartu kredit setelah campaign ≠ rata-rata pemakaian kartu kredit sebelum campaign (µ1 > µ0)"
      ]
    },
    {
      "cell_type": "markdown",
      "metadata": {
        "id": "FH9PFX1-zFy_"
      },
      "source": [
        "2.Menetapkan tingkat signifikansi (α)\n",
        "yang digunakan.\n",
        "\n",
        "Tingkat signifikansi (α) = 5% atau 0.05, dengan tingkat kepercayaan 95% atau 0.95.\n",
        "\n",
        "Karena H1 --> µ1 ≠ µ0, maka digunakan hipotesis 2 arah atau Two Tailed. Sehingga daerah kritis menjadi dau di kiri dan kanan dengan nilai (α) menjadi = 0.025"
      ]
    },
    {
      "cell_type": "markdown",
      "source": [
        "Menentukan area kritis penolakan H0"
      ],
      "metadata": {
        "id": "npkbHiDh9e1r"
      }
    },
    {
      "cell_type": "code",
      "source": [
        "# Menentukan poin kritis\n",
        "poin_kritis = stats.norm.ppf(0.025)\n",
        "print(f'Nilai poin kritis adalah {poin_kritis:.5f}')\n",
        "\n",
        "# Menggambar Area Kritis atau Area Penolakan H0 dengan (α) = 5%\n",
        "# Karena Two taild berarti nilai (α) = 0.025 dikanan dan (α) =-0.025 di kiri\n",
        "\n",
        "def draw_z_score(x, cond, mu=0, sigma=1):\n",
        "    y = stats.norm.pdf(x, mu, sigma)\n",
        "    z = x[cond]\n",
        "    plt.plot(x, y)\n",
        "    plt.fill_between(z, 0, stats.norm.pdf(z, mu, sigma))\n",
        "    plt.title('Area Penerimaan H0')\n",
        "    plt.show()\n",
        "    \n",
        "x = np.arange(-3, 3, 0.001)\n",
        "draw_z_score(x, ( x > poin_kritis) & (x < abs(poin_kritis)))\n",
        "#Area diluar yang berwarna biru adalah area penolakan\n"
      ],
      "metadata": {
        "colab": {
          "base_uri": "https://localhost:8080/",
          "height": 469
        },
        "id": "mYTOgwL27PzU",
        "outputId": "dc008e46-25e3-49d8-9b43-8e054257c03a"
      },
      "execution_count": null,
      "outputs": [
        {
          "output_type": "stream",
          "name": "stdout",
          "text": [
            "Nilai poin kritis adalah -1.95996\n"
          ]
        },
        {
          "output_type": "display_data",
          "data": {
            "text/plain": [
              "<Figure size 640x480 with 1 Axes>"
            ],
            "image/png": "[encoded data removed]"
          },
          "metadata": {}
        }
      ]
    },
    {
      "cell_type": "markdown",
      "source": [
        "Area Yg berwarna biru adalah daerah penerimaan H0, dan diluar itu adalah area penolkan HO..Garis batasnya ada lah poin kritis pada kasus ini untuk two tailed dengan  (α) = 5% atau 0.05 besar poin kritisnya -1.95996 di kiri dan 1.95996 dikanan."
      ],
      "metadata": {
        "id": "tVUdT6j8ZuzJ"
      }
    },
    {
      "cell_type": "markdown",
      "source": [
        "###############################################################################################"
      ],
      "metadata": {
        "id": "sQcGxb3paPzf"
      }
    },
    {
      "cell_type": "markdown",
      "metadata": {
        "id": "JEenGlqPzP3v"
      },
      "source": [
        "3.Menentukan statistik uji yang tepat dan\n",
        "menghitung nilai statistik hitung.\n",
        "\n",
        "Karena data sampel yang digunakan adalah dua sampel berpasangan atau dependen (ke dua data sampel merupakan data populasi yang sama namun berbeda perlakuan, dimana yang 1 disebut control dan lainnya disebut treatment), dan jumlah sampel data (n) > 30, maka uji hipotesis bisa dilakukan dengan Uji Z Dua Sampel Berpasangan (tapi cara ini tidak familiar).\n",
        "\n",
        "Untuk dua sampel berpasangan Uji T lebih di kenal walaupun biasanya uji T dilakukan untuk sampel yang jumlah datanya (n) < 30, tetapi pada data yang berpasangan untuk n > 30 nilai T lebih akurat atau sebanding dengan nilai Z. Sehingga untuk data dua sampel berpasangan lebih dikenal dengan Uji T Dua Sampel berpasangan (Paired T-Test). Jadi kita akan melakukan uji hipotesis menggunakan Paired T-Test.\n",
        "\n",
        "Dengan rumus\n",
        "\n",
        "![pairedttest.png](data:image/png;base64,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)\n",
        "\n",
        "Dimana \n",
        "\n",
        "       t  : Nilai T hitung\n",
        "\n",
        "       d  : Rata-rata selisih ke dua sampel\n",
        "\n",
        "       Sd : Standard Deviasi Selisih\n",
        "\n",
        "       n  : Jumlah sampel\n",
        "\n",
        "       df : derajat kebebasan"
      ]
    },
    {
      "cell_type": "markdown",
      "metadata": {
        "id": "Kg5KXleoEBs2"
      },
      "source": [
        "Syarat bisa dilakukan paired T-test\n",
        "*   Selisih rata2 sampel harus tedistribusi normal\n",
        "\n"
      ]
    },
    {
      "cell_type": "markdown",
      "source": [
        "Melakukan pengecekan apakah rata-rata selisih sampel terdistribusi normal"
      ],
      "metadata": {
        "id": "w-qLY0POn_Ul"
      }
    },
    {
      "cell_type": "code",
      "execution_count": null,
      "metadata": {
        "colab": {
          "base_uri": "https://localhost:8080/",
          "height": 466
        },
        "id": "cpQLgnjafM3S",
        "outputId": "e8d163d5-db3c-4c0c-8aa3-9d8308bd703e"
      },
      "outputs": [
        {
          "output_type": "execute_result",
          "data": {
            "text/plain": [
              "<Axes: xlabel='Selisih Rerata', ylabel='Density'>"
            ]
          },
          "metadata": {},
          "execution_count": 19
        },
        {
          "output_type": "display_data",
          "data": {
            "text/plain": [
              "<Figure size 640x480 with 1 Axes>"
            ],
            "image/png": "[encoded data removed]"
          },
          "metadata": {}
        }
      ],
      "source": [
        "# cek apakah selisih rata2 sampel terdistribusi normal\n",
        "# menggunakan KDE (Kernel Density Estimation)\n",
        "sns.kdeplot(df1['Selisih Rerata'], fill=True)"
      ]
    },
    {
      "cell_type": "code",
      "execution_count": null,
      "metadata": {
        "colab": {
          "base_uri": "https://localhost:8080/",
          "height": 472
        },
        "id": "ATDZWmIxHTv9",
        "outputId": "5492656d-0a43-4dca-c311-504366afd46b"
      },
      "outputs": [
        {
          "output_type": "display_data",
          "data": {
            "text/plain": [
              "<Figure size 640x480 with 1 Axes>"
            ],
            "image/png": "[encoded data removed]"
          },
          "metadata": {}
        }
      ],
      "source": [
        "# Cek sampel terdistribusi normal menggunakan Probabilitic plot \n",
        "# (analisis regresi untuk pemeriksaan asumsi normalitas)\n",
        "stats.probplot(df1['Selisih Rerata'],plot=plt);"
      ]
    },
    {
      "cell_type": "markdown",
      "metadata": {
        "id": "xXotC0XifvWj"
      },
      "source": [
        "Dilihat dari hasil diagram pertama diatas yang berbentuk lonceng, menunjukkan bahwa selisih rata-rata ke dua data terdistribusi normal. Dan untuk diagram ke dua metode probabilistic plot, bisa dilihat data terkumpul di garis merah menandakan data terdistribusi normal. \n",
        "\n",
        "Karena rata2 selisih sampel berdistribusi normal maka Paired Z-Test bisa dilakukan."
      ]
    },
    {
      "cell_type": "markdown",
      "metadata": {
        "id": "86K8XfMVahck"
      },
      "source": [
        "Melakukan Uji Z Dua sampel berpasangan (Paired Z-Test/ Paired T-Test) secara manual"
      ]
    },
    {
      "cell_type": "code",
      "execution_count": null,
      "metadata": {
        "colab": {
          "base_uri": "https://localhost:8080/"
        },
        "id": "VbQsXcjxKJiM",
        "outputId": "8ecc8fba-a6e8-426c-9c5f-f21c350dbe62"
      },
      "outputs": [
        {
          "output_type": "stream",
          "name": "stdout",
          "text": [
            "Nilai T Statistik adalah 4.96064\n",
            "Nilai Poin Kritis adalah -1.95996\n",
            "Hipotesis Nol (H0) DITOLAK\n"
          ]
        }
      ],
      "source": [
        "# Melakukan Uji Dua sampel berpasangan (Paired Z-Test/ Paired T-Test) secara manual\n",
        "# Dimana rumus nya seperti diatas pada poin 3\n",
        "\n",
        "d = df1['Selisih Rerata'].mean()\n",
        "d0 = 0 #karena uji H0 adalah pembuktian jika rata2 sebelum dan sesudah adalah sama atau berarti selisih nya adalah nol\n",
        "Sd = df1['Selisih Rerata'].std()\n",
        "n = df1['Selisih Rerata'].count()\n",
        "\n",
        "# Hitung nilai T statistik\n",
        "tstat = (d - d0)/(Sd/n**0.5)\n",
        "print(f'Nilai T Statistik adalah {tstat:.5f}')\n",
        "print(f'Nilai Poin Kritis adalah {poin_kritis:.5f}')\n",
        "\n",
        "#Kondisi untuk Two Tailed\n",
        "if tstat > abs(poin_kritis) or tstat < poin_kritis :\n",
        "    print('Hipotesis Nol (H0) DITOLAK')\n",
        "else :\n",
        "    print('Hipotesis Nol (H0) DITERIMA') "
      ]
    },
    {
      "cell_type": "markdown",
      "source": [
        "Menggunakan perhitungan manual didapat hasil Nilai T Statistik adalah 4.96064\n",
        "dimana Nilai Poin Kritis adalah -1.95996 dan 1.95996. \n",
        "\n",
        "Jika Tstat > 1.95996 atau T stat < -1.95996 maka Hipotesis Nol (H0) ditolak.\n",
        "\n",
        "Karena T statistik > Nilai poin kritis artinya nilai T berada di area penolkan H0, artinya Hipotesis Nol (H0) DITOLAK.\n",
        "\n",
        "**----------------------------------------------------------------------------**"
      ],
      "metadata": {
        "id": "dTM3CQQ5bjKB"
      }
    },
    {
      "cell_type": "markdown",
      "metadata": {
        "id": "d8YubzX7acuM"
      },
      "source": [
        "Melakukan Uji Z Dua sampel berpasangan (Paired Z-Test/ Paired T-Test) menggunakan scipy"
      ]
    },
    {
      "cell_type": "code",
      "execution_count": null,
      "metadata": {
        "colab": {
          "base_uri": "https://localhost:8080/"
        },
        "id": "lrpb2EMAaJ9q",
        "outputId": "addf32d4-7417-4cc1-ffcb-134cea034cf4"
      },
      "outputs": [
        {
          "output_type": "stream",
          "name": "stdout",
          "text": [
            "t-statistic : 4.96064\n",
            "p-value : 0.00000\n"
          ]
        }
      ],
      "source": [
        "nawal = df1['Pemakaian Awal']\n",
        "ncamp = df1['Rerata Setelah Campaign']\n",
        "tstat, pvalue= stats.ttest_rel(ncamp,nawal,alternative='two-sided')\n",
        "print(f't-statistic : {tstat:.5f}')\n",
        "print(f'p-value : {pvalue:.5f}')"
      ]
    },
    {
      "cell_type": "markdown",
      "source": [
        "Kesimpulan\n",
        "\n",
        "1.   Nilai P-Value (0.00000) < 0.025 (α), Artinya Hipotesis Nol (H0) ditolak, Dan Hipotesis alternatif diterima.\n",
        "     \n",
        "\n",
        "2. Karena Hipotesis alternatif diterima artinya ada perbedaan terhadap pemakaian kartu setelah diadakan campaign.\n",
        "\n",
        "3. Karena nilai T statisik (4.96064) berada di area kritis sebelah kanan, artinya pengaruh campaign ini memberikan efek yang Positif dengan kata lain **CAMPAIGN SUKSES** karena membuat kenaikan pemakaian pengguna kartu.\n",
        "\n",
        "\n"
      ],
      "metadata": {
        "id": "Knj3biAZoWGU"
      }
    },
    {
      "cell_type": "markdown",
      "source": [
        "##################################################################################"
      ],
      "metadata": {
        "id": "ZOguddnPciMh"
      }
    },
    {
      "cell_type": "markdown",
      "source": [
        "# Uji Hipotests Adakah perbedaan pemakaian laki-laki dan perempuan "
      ],
      "metadata": {
        "id": "zcThBeU9PgVZ"
      }
    },
    {
      "cell_type": "markdown",
      "source": [
        "Mengecek Perbedaan pemakaian antara laki-laki dan perempuan menggunakan uji hipotesis"
      ],
      "metadata": {
        "id": "V6XyYCNLwGlU"
      }
    },
    {
      "cell_type": "markdown",
      "source": [
        "1.Merumuskan hipotesis nol (H0)\n",
        "dan hipotesis alternatif (H1)\n",
        "\n",
        "H0 --> Tidak ada perbedaan pemakaian antara kartu kredit laki-laki dan perempuan\n",
        "\n",
        "H1 --> Ada perbedaan pemakaian antara kartu kredit laki-laki dan perempuan"
      ],
      "metadata": {
        "id": "QfXueNE-xg77"
      }
    },
    {
      "cell_type": "markdown",
      "source": [
        "2.Menetapkan tingkat signifikansi (α) yang digunakan.\n",
        "\n",
        "Tingkat signifikansi (α) = 5% atau 0.05, dengan tingkat kepercayaan 95% atau 0.95.\n",
        "\n",
        "Karena H1 --> µ1 ≠ µ0, maka digunakan hipotesis 2 arah atau Two Tailed. Sehingga daerah kritis menjadi dau di kiri dan kanan dengan nilai (α) menjadi = 0.025"
      ],
      "metadata": {
        "id": "vFTtoKHpyZYM"
      }
    },
    {
      "cell_type": "markdown",
      "source": [
        "3.Menentukan statistik uji yang tepat dan menghitung nilai statistik hitung.\n",
        "\n",
        "Karena laki-laki dan perempuan adalah proporsi dari suatu populasi. Untuk menghtiung pemakaian pun menggunakan proporsi. Sehingga digunkan uji hipotesis proporsi"
      ],
      "metadata": {
        "id": "vrmM8QwyyjRc"
      }
    },
    {
      "cell_type": "markdown",
      "source": [
        "Melakukan Uji Z Proporsi 2 Populasi menggunakan statsmodels "
      ],
      "metadata": {
        "id": "5-G0_XCIXht8"
      }
    },
    {
      "cell_type": "code",
      "source": [
        "# Melakukan mapping tingkat kesuksesan campaign dimana dianggap sukses (1) jika rata-rata selisih pemakaian > 0 dan 0 jika rata-rata selisih <= 0\n",
        "df1.insert(8, column = 'Success', value = (df1['Selisih Rerata'].apply(lambda x : 0 if x <= 0 else 1)))"
      ],
      "metadata": {
        "id": "vzLyL2gAX5eL"
      },
      "execution_count": null,
      "outputs": []
    },
    {
      "cell_type": "code",
      "source": [
        "# Melakukan uji hipotesis\n",
        "male = df1[df1['Gender'] == 'Laki-laki']['Success'] \n",
        "female = df1[df1['Gender'] == 'Perempuan']['Success'] \n",
        "nmale = male.count()\n",
        "nfemale = female.count()\n",
        "successes = [male.sum(),female.sum()]\n",
        "nobs = [nmale,nfemale]\n",
        "z_stat,pval = proportions_ztest(successes,nobs)\n",
        "#(lower_con,lower_treat),(upper_con,upper_treat) = proportion_confint(successes,nobs=nobs,alpha=0.05)\n",
        "\n",
        "print(nmale,nfemale,successes)\n",
        "print(f'z-statistic : {z_stat:.2f}')\n",
        "print(f'p-value : {pval:.5f}')"
      ],
      "metadata": {
        "colab": {
          "base_uri": "https://localhost:8080/"
        },
        "id": "R7hoJy7uxgOU",
        "outputId": "8947e441-5e91-44cc-99c7-eb7c91d7ae0a"
      },
      "execution_count": null,
      "outputs": [
        {
          "output_type": "stream",
          "name": "stdout",
          "text": [
            "91 109 [45, 82]\n",
            "z-statistic : -3.77\n",
            "p-value : 0.00016\n"
          ]
        }
      ]
    },
    {
      "cell_type": "markdown",
      "source": [
        "Kesimpulan:\n",
        "\n",
        "*   Nilai P-value (0.00016) < (α) = 0.05, berarti H0 ditolak.\n",
        "*   Karena H0 ditolak maka Hipotesis Alternatif (H1) diterima. Artinya 'Ada perbedaan pemakaian antara kartu kredit laki-laki dan perempuan' adalah bernilai benar.\n",
        "\n",
        "\n"
      ],
      "metadata": {
        "id": "BaJVKda1WuLy"
      }
    },
    {
      "cell_type": "markdown",
      "source": [
        "# Uji Statistik Pemakaian Kartu Kredit Laki-laki setelah dan sebelum Campaign\n",
        " \n",
        " menggunakan Paired T-Test dengan  (α) = 5%. Maka poin kritis terdapat di kiri kanan dengan poin kritis kiri -1.95996 dan kanan 1.95996\n"
      ],
      "metadata": {
        "id": "4r249sNgLcWf"
      }
    },
    {
      "cell_type": "markdown",
      "source": [
        "H0 --> Pemakaian Setelah Campaign = Pemakaian Sebelum Campaign\n",
        "\n",
        "H1 --> Pemakaian Setelah Campaign = Pemakaian Sebelum Campaign"
      ],
      "metadata": {
        "id": "M8js8zW5LodS"
      }
    },
    {
      "cell_type": "code",
      "source": [
        "after_campaign_male = df1[df1['Gender'] == 'Laki-laki']['Rerata Setelah Campaign']\n",
        "before_campaign_male = df1[df1['Gender'] == 'Laki-laki']['Pemakaian Awal']\n",
        "tstatl, pvaluel= stats.ttest_rel(after_campaign_male,before_campaign_male,alternative='two-sided')\n",
        "print(f't-statistic : {tstatl:.5f}')\n",
        "print(f'p-value : {pvaluel:.9f}')"
      ],
      "metadata": {
        "colab": {
          "base_uri": "https://localhost:8080/"
        },
        "id": "dwkO7_61LYHi",
        "outputId": "cb06d165-0032-41fd-b554-316b93f88a58"
      },
      "execution_count": null,
      "outputs": [
        {
          "output_type": "stream",
          "name": "stdout",
          "text": [
            "t-statistic : -0.21034\n",
            "p-value : 0.833880137\n"
          ]
        }
      ]
    },
    {
      "cell_type": "markdown",
      "source": [
        "Karena p-value > α, maka HO diterima, artinya H0 diterima atau pemakaian setelah campaign tidak jauh berbeda dengan pemakaian sebelum campaign. \n",
        "\n",
        "Karena T Statistik (-0.21034) > Poin Kritis kiri (-1.95996) dan T Statistik (-0.21034) < Poin Kritis kanan (1.95996) maka t statistik berada di area penerimaan H0 dengan kata lain H0 diterima atau tidak ada efek setelah dilakukan efek dikalangan laki-laki."
      ],
      "metadata": {
        "id": "IAtDX3RdNUmx"
      }
    },
    {
      "cell_type": "markdown",
      "source": [
        "# Uji Statistik Pemakaian Kartu Kredit Perempuan setelah dan sebelum Campaign\n",
        "\n",
        "Menggunakan Paired T-Test dengan (α) = 5%. Maka poin kritis terdapat di kiri kanan dengan poin kritis kiri -1.95996 dan kanan 1.95996"
      ],
      "metadata": {
        "id": "2CHTgbxMQcCG"
      }
    },
    {
      "cell_type": "markdown",
      "source": [
        "H0 --> Pemakaian Setelah Campaign = Pemakaian Sebelum Campaign\n",
        "\n",
        "H1 --> Pemakaian Setelah Campaign = Pemakaian Sebelum Campaign"
      ],
      "metadata": {
        "id": "4TcWzQE_Q0xR"
      }
    },
    {
      "cell_type": "code",
      "source": [
        "after_campaign_female = df1[df1['Gender'] == 'Perempuan']['Rerata Setelah Campaign']\n",
        "before_campaign_female = df1[df1['Gender'] == 'Perempuan']['Pemakaian Awal']\n",
        "tstatp, pvaluep= stats.ttest_rel(after_campaign_female,before_campaign_female,alternative='two-sided')\n",
        "print(f't-statistic : {tstatp:.5f}')\n",
        "print(f'p-value : {pvaluep:.9f}')"
      ],
      "metadata": {
        "colab": {
          "base_uri": "https://localhost:8080/"
        },
        "id": "b1bgNcqfQYEZ",
        "outputId": "8ab2e56c-30e0-4329-864c-548fcb703da1"
      },
      "execution_count": null,
      "outputs": [
        {
          "output_type": "stream",
          "name": "stdout",
          "text": [
            "t-statistic : 7.63656\n",
            "p-value : 0.000000000\n"
          ]
        }
      ]
    },
    {
      "cell_type": "markdown",
      "source": [
        "Kesimpulan :\n",
        "\n",
        "Karena p-value (0.000000000) < α(0.05), maka HO ditolak, artinya terdapat perbedaan pemakaian setelah dan sebelum campaign pada perempuan.\n",
        "\n",
        "Karena T Statistik (7.63656) > Poin Kritis kanan (1.95996) maka t statistik berada di area penolakan H0 dengan kata lain H1 diterima atau mempunyai efek Positif setelah diadakan campaign dikalangan perempuan.\n"
      ],
      "metadata": {
        "id": "BWSvVKJ5Q4EB"
      }
    },
    {
      "cell_type": "markdown",
      "source": [
        "########################################################"
      ],
      "metadata": {
        "id": "-jG0rGXTc1Qh"
      }
    },
    {
      "cell_type": "markdown",
      "source": [
        "# KESIMPULAN"
      ],
      "metadata": {
        "id": "JwYFIgb9c4qx"
      }
    },
    {
      "cell_type": "markdown",
      "source": [
        "1. Analisis eksplorasi data yang menyatakan Campaign **Sukses** bisa diperkuat dengan uji hipotesis.\n",
        "2. Antara analisa data Perbedaan pemakaian laki-laki dan perempuan bisa diperkuat hasilnya menggunakan uji hipotesis dimana hasilnya 'ADA PERBEDAAN PEMAKAIAN ANTARA LAKI-LAKI DAN PEREMPUAN'\n",
        "3. Campaign sangat berpengaruh di kalangan perempuan, sebaiknya ke depannya diperhatikan isi campaign yang lebih menarik bagi kalangan laki-laki."
      ],
      "metadata": {
        "id": "6d4FVeSsc9OK"
      }
    }
  ],
  "metadata": {
    "colab": {
      "provenance": []
    },
    "kernelspec": {
      "display_name": "Python 3",
      "name": "python3"
    },
    "language_info": {
      "name": "python"
    }
  },
  "nbformat": 4,
  "nbformat_minor": 0
}